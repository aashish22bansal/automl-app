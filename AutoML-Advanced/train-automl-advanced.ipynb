{
 "cells": [
  {
   "cell_type": "code",
   "execution_count": 1,
   "id": "9aab5e1e",
   "metadata": {},
   "outputs": [],
   "source": [
    "import os\n",
    "import shutil\n",
    "import pandas as pd\n",
    "import mercury as mr\n",
    "from supervised.automl import AutoML "
   ]
  },
  {
   "cell_type": "code",
   "execution_count": 2,
   "id": "5b576b07",
   "metadata": {},
   "outputs": [],
   "source": [
    "import warnings\n",
    "warnings.filterwarnings(\"ignore\")"
   ]
  },
  {
   "cell_type": "code",
   "execution_count": 3,
   "id": "6313fc0d",
   "metadata": {},
   "outputs": [
    {
     "data": {
      "application/mercury+json": {
       "allow_download": true,
       "allow_share": true,
       "code_uid": "App.0.50.110.1-randdc2f4541",
       "continuous_update": true,
       "description": "Train ML pipeline with MLJAR AutoML with more params",
       "full_screen": true,
       "model_id": "mercury-app",
       "notify": "{}",
       "output": "app",
       "schedule": "",
       "show_code": false,
       "show_prompt": false,
       "show_sidebar": true,
       "static_notebook": false,
       "stop_on_error": false,
       "title": "Train AutoML (advanced) 🤓",
       "widget": "App"
      },
      "text/html": [
       "<h3>Mercury Application</h3><small>This output won't appear in the web app.</small>"
      ],
      "text/plain": [
       "mercury.App"
      ]
     },
     "metadata": {},
     "output_type": "display_data"
    }
   ],
   "source": [
    "app = mr.App(title=\"Train AutoML (advanced) 🤓\", \n",
    "             description=\"Train ML pipeline with MLJAR AutoML with more params\")"
   ]
  },
  {
   "cell_type": "markdown",
   "id": "6d62fe00",
   "metadata": {},
   "source": [
    "# Train Machine Learning Pipeline with MLJAR AutoML\n",
    "\n",
    "You can control AutoML behavior with more parameters. This notebook is running autoML in the `Compete` mode. \n",
    "\n",
    "You can choose:\n",
    "- feature preprocessing parameters: golden features and features selection\n",
    "- select algorithms, stack, and ensemble them,\n",
    "- set cross-validation strategy (number of folds, stratify and shuffle),\n",
    "- choose evaluation metric.\n",
    "\n",
    "### Steps\n",
    "1. Upload CSV file with data. Data should have column names in the first line.\n",
    "2. Select input features and target column.\n",
    "3. Select AutoML training mode, algorithms, and training time limit.\n",
    "4. Directory with all ML models will be zipped and available to download."
   ]
  },
  {
   "cell_type": "code",
   "execution_count": 4,
   "id": "aafac626",
   "metadata": {},
   "outputs": [],
   "source": [
    "# data_file = mr.File(label=\"Upload CSV with training data\", max_file_size=\"1MB\")"
   ]
  },
  {
   "cell_type": "code",
   "execution_count": 5,
   "id": "4eaf32fb",
   "metadata": {},
   "outputs": [],
   "source": [
    "from sklearn.datasets import load_iris\n",
    "df = load_iris(return_X_y = True, as_frame = True)"
   ]
  },
  {
   "cell_type": "code",
   "execution_count": 6,
   "id": "cb3cfa8c",
   "metadata": {},
   "outputs": [],
   "source": [
    "# if data_file.filepath is None:\n",
    "#     mr.Stop()"
   ]
  },
  {
   "cell_type": "code",
   "execution_count": 7,
   "id": "02c8b639",
   "metadata": {},
   "outputs": [],
   "source": [
    "# df = pd.read_csv(data_file.filepath)"
   ]
  },
  {
   "cell_type": "code",
   "execution_count": 8,
   "id": "7557b68a",
   "metadata": {},
   "outputs": [
    {
     "data": {
      "text/markdown": [
       "### Training data"
      ],
      "text/plain": [
       "<IPython.core.display.Markdown object>"
      ]
     },
     "metadata": {},
     "output_type": "display_data"
    }
   ],
   "source": [
    "mr.Markdown(\"### Training data\")"
   ]
  },
  {
   "cell_type": "code",
   "execution_count": 9,
   "id": "83921208",
   "metadata": {},
   "outputs": [
    {
     "data": {
      "text/plain": [
       "(     sepal length (cm)  sepal width (cm)  petal length (cm)  petal width (cm)\n",
       " 0                  5.1               3.5                1.4               0.2\n",
       " 1                  4.9               3.0                1.4               0.2\n",
       " 2                  4.7               3.2                1.3               0.2\n",
       " 3                  4.6               3.1                1.5               0.2\n",
       " 4                  5.0               3.6                1.4               0.2\n",
       " ..                 ...               ...                ...               ...\n",
       " 145                6.7               3.0                5.2               2.3\n",
       " 146                6.3               2.5                5.0               1.9\n",
       " 147                6.5               3.0                5.2               2.0\n",
       " 148                6.2               3.4                5.4               2.3\n",
       " 149                5.9               3.0                5.1               1.8\n",
       " \n",
       " [150 rows x 4 columns],\n",
       " 0      0\n",
       " 1      0\n",
       " 2      0\n",
       " 3      0\n",
       " 4      0\n",
       "       ..\n",
       " 145    2\n",
       " 146    2\n",
       " 147    2\n",
       " 148    2\n",
       " 149    2\n",
       " Name: target, Length: 150, dtype: int32)"
      ]
     },
     "execution_count": 9,
     "metadata": {},
     "output_type": "execute_result"
    }
   ],
   "source": [
    "df"
   ]
  },
  {
   "cell_type": "code",
   "execution_count": 10,
   "id": "a90bee28",
   "metadata": {},
   "outputs": [
    {
     "data": {
      "text/html": [
       "<div>\n",
       "<style scoped>\n",
       "    .dataframe tbody tr th:only-of-type {\n",
       "        vertical-align: middle;\n",
       "    }\n",
       "\n",
       "    .dataframe tbody tr th {\n",
       "        vertical-align: top;\n",
       "    }\n",
       "\n",
       "    .dataframe thead th {\n",
       "        text-align: right;\n",
       "    }\n",
       "</style>\n",
       "<table border=\"1\" class=\"dataframe\">\n",
       "  <thead>\n",
       "    <tr style=\"text-align: right;\">\n",
       "      <th></th>\n",
       "      <th>sepal length (cm)</th>\n",
       "      <th>sepal width (cm)</th>\n",
       "      <th>petal length (cm)</th>\n",
       "      <th>petal width (cm)</th>\n",
       "    </tr>\n",
       "  </thead>\n",
       "  <tbody>\n",
       "    <tr>\n",
       "      <th>0</th>\n",
       "      <td>5.1</td>\n",
       "      <td>3.5</td>\n",
       "      <td>1.4</td>\n",
       "      <td>0.2</td>\n",
       "    </tr>\n",
       "    <tr>\n",
       "      <th>1</th>\n",
       "      <td>4.9</td>\n",
       "      <td>3.0</td>\n",
       "      <td>1.4</td>\n",
       "      <td>0.2</td>\n",
       "    </tr>\n",
       "    <tr>\n",
       "      <th>2</th>\n",
       "      <td>4.7</td>\n",
       "      <td>3.2</td>\n",
       "      <td>1.3</td>\n",
       "      <td>0.2</td>\n",
       "    </tr>\n",
       "    <tr>\n",
       "      <th>3</th>\n",
       "      <td>4.6</td>\n",
       "      <td>3.1</td>\n",
       "      <td>1.5</td>\n",
       "      <td>0.2</td>\n",
       "    </tr>\n",
       "    <tr>\n",
       "      <th>4</th>\n",
       "      <td>5.0</td>\n",
       "      <td>3.6</td>\n",
       "      <td>1.4</td>\n",
       "      <td>0.2</td>\n",
       "    </tr>\n",
       "    <tr>\n",
       "      <th>...</th>\n",
       "      <td>...</td>\n",
       "      <td>...</td>\n",
       "      <td>...</td>\n",
       "      <td>...</td>\n",
       "    </tr>\n",
       "    <tr>\n",
       "      <th>145</th>\n",
       "      <td>6.7</td>\n",
       "      <td>3.0</td>\n",
       "      <td>5.2</td>\n",
       "      <td>2.3</td>\n",
       "    </tr>\n",
       "    <tr>\n",
       "      <th>146</th>\n",
       "      <td>6.3</td>\n",
       "      <td>2.5</td>\n",
       "      <td>5.0</td>\n",
       "      <td>1.9</td>\n",
       "    </tr>\n",
       "    <tr>\n",
       "      <th>147</th>\n",
       "      <td>6.5</td>\n",
       "      <td>3.0</td>\n",
       "      <td>5.2</td>\n",
       "      <td>2.0</td>\n",
       "    </tr>\n",
       "    <tr>\n",
       "      <th>148</th>\n",
       "      <td>6.2</td>\n",
       "      <td>3.4</td>\n",
       "      <td>5.4</td>\n",
       "      <td>2.3</td>\n",
       "    </tr>\n",
       "    <tr>\n",
       "      <th>149</th>\n",
       "      <td>5.9</td>\n",
       "      <td>3.0</td>\n",
       "      <td>5.1</td>\n",
       "      <td>1.8</td>\n",
       "    </tr>\n",
       "  </tbody>\n",
       "</table>\n",
       "<p>150 rows × 4 columns</p>\n",
       "</div>"
      ],
      "text/plain": [
       "     sepal length (cm)  sepal width (cm)  petal length (cm)  petal width (cm)\n",
       "0                  5.1               3.5                1.4               0.2\n",
       "1                  4.9               3.0                1.4               0.2\n",
       "2                  4.7               3.2                1.3               0.2\n",
       "3                  4.6               3.1                1.5               0.2\n",
       "4                  5.0               3.6                1.4               0.2\n",
       "..                 ...               ...                ...               ...\n",
       "145                6.7               3.0                5.2               2.3\n",
       "146                6.3               2.5                5.0               1.9\n",
       "147                6.5               3.0                5.2               2.0\n",
       "148                6.2               3.4                5.4               2.3\n",
       "149                5.9               3.0                5.1               1.8\n",
       "\n",
       "[150 rows x 4 columns]"
      ]
     },
     "execution_count": 10,
     "metadata": {},
     "output_type": "execute_result"
    }
   ],
   "source": [
    "df[0]"
   ]
  },
  {
   "cell_type": "code",
   "execution_count": 11,
   "id": "44fbf6e2",
   "metadata": {},
   "outputs": [
    {
     "data": {
      "application/mercury+json": {
       "choices": [
        "sepal length (cm)",
        "sepal width (cm)",
        "petal length (cm)",
        "petal width (cm)"
       ],
       "code_uid": "MultiSelect.0.50.91.1-randa4ea75f2",
       "disabled": false,
       "hidden": false,
       "label": "Input features",
       "model_id": "8f9dc76938684807b4d0a8274987d5a8",
       "url_key": "",
       "value": [
        "sepal length (cm)",
        "sepal width (cm)",
        "petal length (cm)"
       ],
       "widget": "MultiSelect"
      },
      "application/vnd.jupyter.widget-view+json": {
       "model_id": "8f9dc76938684807b4d0a8274987d5a8",
       "version_major": 2,
       "version_minor": 0
      },
      "text/plain": [
       "mercury.MultiSelect"
      ]
     },
     "metadata": {},
     "output_type": "display_data"
    }
   ],
   "source": [
    "x_columns = mr.MultiSelect(label=\"Input features\", value=list(df[0].columns)[:-1], \n",
    "                           choices=list(df[0].columns))"
   ]
  },
  {
   "cell_type": "code",
   "execution_count": 15,
   "id": "81d64072",
   "metadata": {},
   "outputs": [
    {
     "data": {
      "application/mercury+json": {
       "choices": [
        "sepal length (cm)",
        "sepal width (cm)",
        "petal length (cm)",
        "petal width (cm)"
       ],
       "code_uid": "Select.0.50.104.1-rand0f9ff7cc",
       "disabled": false,
       "hidden": false,
       "label": "Target",
       "model_id": "96ede86ae6c5430bad5d3797fa5e780e",
       "url_key": "",
       "value": "petal width (cm)",
       "widget": "Select"
      },
      "application/vnd.jupyter.widget-view+json": {
       "model_id": "96ede86ae6c5430bad5d3797fa5e780e",
       "version_major": 2,
       "version_minor": 0
      },
      "text/plain": [
       "mercury.Select"
      ]
     },
     "metadata": {},
     "output_type": "display_data"
    }
   ],
   "source": [
    "y_column = mr.Select(label=\"Target\", value=list(df[0].columns)[-1], choices=list(df[0].columns))"
   ]
  },
  {
   "cell_type": "code",
   "execution_count": 16,
   "id": "465f07df",
   "metadata": {},
   "outputs": [],
   "source": [
    "if x_columns.value is None or len(x_columns.value) == 0 or y_column.value is None:\n",
    "    print(\"Please select input features and target column\")\n",
    "    mr.Stop()"
   ]
  },
  {
   "cell_type": "code",
   "execution_count": 17,
   "id": "c91f5ef3",
   "metadata": {},
   "outputs": [
    {
     "data": {
      "application/mercury+json": {
       "code_uid": "Note.0.50.45.1-rand8d5a0171",
       "model_id": "Note.0.50.45.1-rand8d5a0171",
       "value": "#### Prepare data",
       "widget": "Note"
      },
      "text/markdown": [
       "#### Prepare data"
      ],
      "text/plain": [
       "mercury.Note"
      ]
     },
     "metadata": {},
     "output_type": "display_data"
    }
   ],
   "source": [
    "_ = mr.Note(\"#### Prepare data\")"
   ]
  },
  {
   "cell_type": "code",
   "execution_count": 18,
   "id": "5adbefad",
   "metadata": {},
   "outputs": [
    {
     "data": {
      "application/mercury+json": {
       "code_uid": "Checkbox.0.50.70.1-rand6b396bfa",
       "disabled": false,
       "hidden": false,
       "label": "Construct Golden Features",
       "model_id": "78847e341fe0444a83013e5b72bc2308",
       "url_key": "",
       "value": true,
       "widget": "Checkbox"
      },
      "application/vnd.jupyter.widget-view+json": {
       "model_id": "78847e341fe0444a83013e5b72bc2308",
       "version_major": 2,
       "version_minor": 0
      },
      "text/plain": [
       "mercury.Checkbox"
      ]
     },
     "metadata": {},
     "output_type": "display_data"
    }
   ],
   "source": [
    "golden_features = mr.Checkbox(label=\"Construct Golden Features\")"
   ]
  },
  {
   "cell_type": "code",
   "execution_count": 19,
   "id": "c829fd4c",
   "metadata": {},
   "outputs": [
    {
     "data": {
      "application/mercury+json": {
       "code_uid": "Checkbox.0.50.70.1-rand588cd482",
       "disabled": false,
       "hidden": false,
       "label": "Features Selection",
       "model_id": "465fa77c1d8045ccb4a3389f81b711a9",
       "url_key": "",
       "value": true,
       "widget": "Checkbox"
      },
      "application/vnd.jupyter.widget-view+json": {
       "model_id": "465fa77c1d8045ccb4a3389f81b711a9",
       "version_major": 2,
       "version_minor": 0
      },
      "text/plain": [
       "mercury.Checkbox"
      ]
     },
     "metadata": {},
     "output_type": "display_data"
    }
   ],
   "source": [
    "features_selection = mr.Checkbox(label=\"Features Selection\")"
   ]
  },
  {
   "cell_type": "code",
   "execution_count": 20,
   "id": "6e4cc96d",
   "metadata": {},
   "outputs": [
    {
     "data": {
      "application/mercury+json": {
       "code_uid": "Note.0.50.45.1-rand031292b6",
       "model_id": "Note.0.50.45.1-rand031292b6",
       "value": "#### Algorithms",
       "widget": "Note"
      },
      "text/markdown": [
       "#### Algorithms"
      ],
      "text/plain": [
       "mercury.Note"
      ]
     },
     "metadata": {},
     "output_type": "display_data"
    }
   ],
   "source": [
    "_ = mr.Note(\"#### Algorithms\")"
   ]
  },
  {
   "cell_type": "code",
   "execution_count": 21,
   "id": "4ad21129",
   "metadata": {},
   "outputs": [],
   "source": [
    "algos = [\"Decision Tree\", \"Linear\", \"Random Forest\", \"Extra Trees\", \"LightGBM\", \n",
    "                \"Xgboost\", \"CatBoost\", \"Neural Network\", \"Nearest Neighbors\"]\n"
   ]
  },
  {
   "cell_type": "code",
   "execution_count": 22,
   "id": "e957c5a2",
   "metadata": {},
   "outputs": [
    {
     "data": {
      "application/mercury+json": {
       "choices": [
        "Decision Tree",
        "Linear",
        "Random Forest",
        "Extra Trees",
        "LightGBM",
        "Xgboost",
        "CatBoost",
        "Neural Network",
        "Nearest Neighbors"
       ],
       "code_uid": "MultiSelect.0.50.91.1-rand1730cfeb",
       "disabled": false,
       "hidden": false,
       "label": "Algorithms",
       "model_id": "cf1cd61f97104558ad03084c088834d2",
       "url_key": "",
       "value": [
        "Decision Tree",
        "Linear",
        "Random Forest",
        "Extra Trees",
        "LightGBM",
        "Xgboost",
        "CatBoost",
        "Neural Network",
        "Nearest Neighbors"
       ],
       "widget": "MultiSelect"
      },
      "application/vnd.jupyter.widget-view+json": {
       "model_id": "cf1cd61f97104558ad03084c088834d2",
       "version_major": 2,
       "version_minor": 0
      },
      "text/plain": [
       "mercury.MultiSelect"
      ]
     },
     "metadata": {},
     "output_type": "display_data"
    }
   ],
   "source": [
    "algorithms = mr.MultiSelect(label=\"Algorithms\", value=algos, choices=algos)"
   ]
  },
  {
   "cell_type": "code",
   "execution_count": null,
   "id": "b85b4124",
   "metadata": {},
   "outputs": [],
   "source": []
  },
  {
   "cell_type": "code",
   "execution_count": null,
   "id": "9cd4a21b",
   "metadata": {},
   "outputs": [],
   "source": []
  },
  {
   "cell_type": "code",
   "execution_count": 23,
   "id": "78506f25",
   "metadata": {},
   "outputs": [
    {
     "data": {
      "application/mercury+json": {
       "code_uid": "Checkbox.0.50.70.1-rande571f4dd",
       "disabled": false,
       "hidden": false,
       "label": "Stack Models",
       "model_id": "5460727668004dc1ba63a58a75fb154d",
       "url_key": "",
       "value": true,
       "widget": "Checkbox"
      },
      "application/vnd.jupyter.widget-view+json": {
       "model_id": "5460727668004dc1ba63a58a75fb154d",
       "version_major": 2,
       "version_minor": 0
      },
      "text/plain": [
       "mercury.Checkbox"
      ]
     },
     "metadata": {},
     "output_type": "display_data"
    }
   ],
   "source": [
    "stack_models = mr.Checkbox(label=\"Stack Models\")"
   ]
  },
  {
   "cell_type": "code",
   "execution_count": 24,
   "id": "5bd6c864",
   "metadata": {},
   "outputs": [
    {
     "data": {
      "application/mercury+json": {
       "code_uid": "Checkbox.0.50.70.1-rand32b7ec83",
       "disabled": false,
       "hidden": false,
       "label": "Train Ensemble",
       "model_id": "c618f50471864176a71576894eef6ee7",
       "url_key": "",
       "value": true,
       "widget": "Checkbox"
      },
      "application/vnd.jupyter.widget-view+json": {
       "model_id": "c618f50471864176a71576894eef6ee7",
       "version_major": 2,
       "version_minor": 0
      },
      "text/plain": [
       "mercury.Checkbox"
      ]
     },
     "metadata": {},
     "output_type": "display_data"
    }
   ],
   "source": [
    "train_ensemble = mr.Checkbox(label=\"Train Ensemble\")"
   ]
  },
  {
   "cell_type": "code",
   "execution_count": null,
   "id": "052df3f7",
   "metadata": {},
   "outputs": [],
   "source": []
  },
  {
   "cell_type": "code",
   "execution_count": 25,
   "id": "532ff2e5",
   "metadata": {},
   "outputs": [
    {
     "data": {
      "application/mercury+json": {
       "code_uid": "Note.0.50.45.1-rand0ad06712",
       "model_id": "Note.0.50.45.1-rand0ad06712",
       "value": "#### Validation",
       "widget": "Note"
      },
      "text/markdown": [
       "#### Validation"
      ],
      "text/plain": [
       "mercury.Note"
      ]
     },
     "metadata": {},
     "output_type": "display_data"
    }
   ],
   "source": [
    "_ = mr.Note(\"#### Validation\")"
   ]
  },
  {
   "cell_type": "code",
   "execution_count": 26,
   "id": "d1d8d9ab",
   "metadata": {},
   "outputs": [
    {
     "data": {
      "application/mercury+json": {
       "code_uid": "Numeric.0.50.101.1-randc017634b",
       "disabled": false,
       "hidden": false,
       "label": "Number of Folds",
       "max": 100,
       "min": 2,
       "model_id": "97d47ec3de4240058394549e4963aed1",
       "step": 1,
       "url_key": "",
       "value": 5,
       "widget": "Numeric"
      },
      "application/vnd.jupyter.widget-view+json": {
       "model_id": "97d47ec3de4240058394549e4963aed1",
       "version_major": 2,
       "version_minor": 0
      },
      "text/plain": [
       "mercury.Numeric"
      ]
     },
     "metadata": {},
     "output_type": "display_data"
    }
   ],
   "source": [
    "folds = mr.Numeric(label=\"Number of Folds\", value=5, min=2, max=100)"
   ]
  },
  {
   "cell_type": "code",
   "execution_count": 27,
   "id": "9f103cf9",
   "metadata": {},
   "outputs": [
    {
     "data": {
      "application/mercury+json": {
       "code_uid": "Checkbox.0.50.70.1-rand25d0558a",
       "disabled": false,
       "hidden": false,
       "label": "Suffle Samples",
       "model_id": "4bde697260d142d9aa39d542c229a19c",
       "url_key": "",
       "value": true,
       "widget": "Checkbox"
      },
      "application/vnd.jupyter.widget-view+json": {
       "model_id": "4bde697260d142d9aa39d542c229a19c",
       "version_major": 2,
       "version_minor": 0
      },
      "text/plain": [
       "mercury.Checkbox"
      ]
     },
     "metadata": {},
     "output_type": "display_data"
    }
   ],
   "source": [
    "shuffle = mr.Checkbox(label=\"Suffle Samples\")"
   ]
  },
  {
   "cell_type": "code",
   "execution_count": 28,
   "id": "2d234a75",
   "metadata": {},
   "outputs": [
    {
     "data": {
      "application/mercury+json": {
       "code_uid": "Checkbox.0.50.70.1-randdb2611b4",
       "disabled": false,
       "hidden": false,
       "label": "Stratify Samples",
       "model_id": "6939c326326a4414bd14ceac47259f87",
       "url_key": "",
       "value": true,
       "widget": "Checkbox"
      },
      "application/vnd.jupyter.widget-view+json": {
       "model_id": "6939c326326a4414bd14ceac47259f87",
       "version_major": 2,
       "version_minor": 0
      },
      "text/plain": [
       "mercury.Checkbox"
      ]
     },
     "metadata": {},
     "output_type": "display_data"
    }
   ],
   "source": [
    "stratify = mr.Checkbox(label=\"Stratify Samples\")"
   ]
  },
  {
   "cell_type": "code",
   "execution_count": 29,
   "id": "21de4493",
   "metadata": {},
   "outputs": [
    {
     "data": {
      "application/mercury+json": {
       "choices": [
        "auto",
        "logloss",
        "f1",
        "average_precision",
        "accuracy",
        "rmse",
        "mse",
        "mae",
        "r2",
        "mape",
        "spearman",
        "pearson"
       ],
       "code_uid": "Select.0.50.104.1-rand5b4602c4",
       "disabled": false,
       "hidden": false,
       "label": "Evaluation Metric",
       "model_id": "fd0af69c39804e2fa4591be2a22c0c7d",
       "url_key": "",
       "value": "auto",
       "widget": "Select"
      },
      "application/vnd.jupyter.widget-view+json": {
       "model_id": "fd0af69c39804e2fa4591be2a22c0c7d",
       "version_major": 2,
       "version_minor": 0
      },
      "text/plain": [
       "mercury.Select"
      ]
     },
     "metadata": {},
     "output_type": "display_data"
    }
   ],
   "source": [
    "eval_metric = mr.Select(label=\"Evaluation Metric\", value=\"auto\", \n",
    "                           choices=[\"auto\", \"logloss\", \"f1\", \"average_precision\",\n",
    "                                    \"accuracy\", \"rmse\", \"mse\", \"mae\", \"r2\",\n",
    "                                    \"mape\", \"spearman\", \"pearson\"])"
   ]
  },
  {
   "cell_type": "code",
   "execution_count": 30,
   "id": "bc779217",
   "metadata": {},
   "outputs": [
    {
     "data": {
      "application/mercury+json": {
       "choices": [
        "60",
        "120",
        "240",
        "300"
       ],
       "code_uid": "Select.0.50.104.1-rand10b2610d",
       "disabled": false,
       "hidden": false,
       "label": "Time Limit (seconds)",
       "model_id": "8f7ad8dc13de4f2fbb4a45ccdc1b0f92",
       "url_key": "",
       "value": "60",
       "widget": "Select"
      },
      "application/vnd.jupyter.widget-view+json": {
       "model_id": "8f7ad8dc13de4f2fbb4a45ccdc1b0f92",
       "version_major": 2,
       "version_minor": 0
      },
      "text/plain": [
       "mercury.Select"
      ]
     },
     "metadata": {},
     "output_type": "display_data"
    }
   ],
   "source": [
    "time_limit = mr.Select(label=\"Time Limit (seconds)\", value=\"60\", choices=[\"60\", \"120\", \"240\", \"300\"])"
   ]
  },
  {
   "cell_type": "code",
   "execution_count": 43,
   "id": "b3e6ba6c",
   "metadata": {},
   "outputs": [
    {
     "data": {
      "application/mercury+json": {
       "code_uid": "Button.0.50.58.1-rand0c0d450f",
       "disabled": false,
       "hidden": false,
       "label": "Start Training",
       "model_id": "51c25730344b48e5b4bfeec9241f3ee3",
       "style": "success",
       "value": false,
       "widget": "Button"
      },
      "application/vnd.jupyter.widget-view+json": {
       "model_id": "51c25730344b48e5b4bfeec9241f3ee3",
       "version_major": 2,
       "version_minor": 0
      },
      "text/plain": [
       "mercury.Button"
      ]
     },
     "metadata": {},
     "output_type": "display_data"
    }
   ],
   "source": [
    "start_training = mr.Button(label=\"Start Training\", style=\"success\")"
   ]
  },
  {
   "cell_type": "code",
   "execution_count": 32,
   "id": "a735b3a7",
   "metadata": {},
   "outputs": [
    {
     "data": {
      "application/mercury+json": {
       "code_uid": "OutputDir.0.50.18.1-rand63ef6b2e",
       "model_id": "output-dir",
       "widget": "OutputDir"
      },
      "text/html": [
       "<h3>Output Directory</h3><small>This output won't appear in the web app.</small>"
      ],
      "text/plain": [
       "mercury.OutputDir"
      ]
     },
     "metadata": {},
     "output_type": "display_data"
    }
   ],
   "source": [
    "output_dir = mr.OutputDir()"
   ]
  },
  {
   "cell_type": "code",
   "execution_count": 46,
   "id": "022b6eec",
   "metadata": {},
   "outputs": [],
   "source": [
    "automl = AutoML(mode=\"Compete\", \n",
    "                algorithms=algorithms.value,\n",
    "                train_ensemble=train_ensemble.value,\n",
    "                stack_models=stack_models.value,\n",
    "                golden_features=golden_features.value,\n",
    "                features_selection=features_selection.value,\n",
    "                validation_strategy={\n",
    "                    \"validation_type\": \"kfold\",\n",
    "                    \"k_folds\": int(folds.value),\n",
    "                    \"shuffle\": shuffle.value,\n",
    "                    \"stratify\": stratify.value,\n",
    "                    \"random_seed\": 123\n",
    "                },\n",
    "                eval_metric=eval_metric.value,\n",
    "                total_time_limit=int(time_limit.value)\n",
    "                )"
   ]
  },
  {
   "cell_type": "code",
   "execution_count": null,
   "id": "f07b6a70",
   "metadata": {},
   "outputs": [],
   "source": []
  },
  {
   "cell_type": "code",
   "execution_count": 47,
   "id": "79246d1b",
   "metadata": {},
   "outputs": [
    {
     "data": {
      "text/markdown": [
       "### AutoML training logs"
      ],
      "text/plain": [
       "<IPython.core.display.Markdown object>"
      ]
     },
     "metadata": {},
     "output_type": "display_data"
    },
    {
     "name": "stdout",
     "output_type": "stream",
     "text": [
      "AutoML directory: AutoML_3\n",
      "The task is regression with evaluation metric rmse\n",
      "AutoML will use algorithms: ['Decision Tree', 'Linear', 'Random Forest', 'Extra Trees', 'LightGBM', 'Xgboost', 'CatBoost', 'Neural Network', 'Nearest Neighbors']\n",
      "AutoML will stack models\n",
      "AutoML will ensemble available models\n",
      "AutoML steps: ['simple_algorithms', 'default_algorithms', 'not_so_random', 'golden_features', 'kmeans_features', 'insert_random_feature', 'features_selection', 'hill_climbing_1', 'hill_climbing_2', 'boost_on_errors', 'ensemble', 'stack', 'ensemble_stacked']\n",
      "* Step simple_algorithms will try to check up to 4 models\n",
      "1_DecisionTree rmse 0.213154 trained in 0.63 seconds\n",
      "2_DecisionTree rmse 0.206743 trained in 0.61 seconds\n",
      "3_DecisionTree rmse 0.206902 trained in 0.59 seconds\n",
      "4_Linear rmse 0.194117 trained in 0.69 seconds\n",
      "* Step default_algorithms will try to check up to 7 models\n",
      "5_Default_LightGBM rmse 0.199116 trained in 0.83 seconds\n",
      "6_Default_Xgboost rmse 0.201006 trained in 1.1 seconds\n",
      "7_Default_CatBoost rmse 0.200783 trained in 1.55 seconds\n",
      "8_Default_NeuralNetwork rmse 0.205753 trained in 0.85 seconds\n",
      "9_Default_RandomForest rmse 0.209363 trained in 1.93 seconds\n",
      "* Step not_so_random will try to check up to 63 models\n",
      "19_LightGBM rmse 0.355576 trained in 2.47 seconds\n",
      "10_Xgboost rmse 0.204284 trained in 0.96 seconds\n",
      "28_CatBoost rmse 0.200345 trained in 1.71 seconds\n",
      "37_RandomForest rmse 0.248499 trained in 1.91 seconds\n",
      "46_ExtraTrees rmse 0.28408 trained in 2.29 seconds\n",
      "55_NeuralNetwork rmse 0.220389 trained in 0.93 seconds\n",
      "64_NearestNeighbors rmse 0.219168 trained in 0.89 seconds\n",
      "20_LightGBM rmse 0.207061 trained in 0.91 seconds\n",
      "* Step golden_features will try to check up to 3 models\n",
      "None 10\n",
      "Add Golden Feature: sepal length (cm)_ratio_petal length (cm)\n",
      "Add Golden Feature: petal length (cm)_ratio_sepal length (cm)\n",
      "Add Golden Feature: sepal width (cm)_diff_petal length (cm)\n",
      "Add Golden Feature: petal length (cm)_sum_sepal width (cm)\n",
      "Add Golden Feature: sepal length (cm)_diff_petal length (cm)\n",
      "Add Golden Feature: petal length (cm)_multiply_sepal width (cm)\n",
      "Add Golden Feature: petal length (cm)_multiply_sepal length (cm)\n",
      "Add Golden Feature: petal length (cm)_sum_sepal length (cm)\n",
      "Add Golden Feature: sepal width (cm)_ratio_petal length (cm)\n",
      "Add Golden Feature: petal length (cm)_ratio_sepal width (cm)\n",
      "Created 10 Golden Features in 3.53 seconds.\n",
      "4_Linear_GoldenFeatures rmse 0.199265 trained in 4.47 seconds\n",
      "Skip kmeans_features because of the time limit.\n",
      "Not enough time to perform features selection. Skip\n",
      "Time needed for features selection ~ 12.0 seconds\n",
      "Please increase total_time_limit to at least (179 seconds) to have features selection\n",
      "Skip insert_random_feature because no parameters were generated.\n",
      "Skip features_selection because no parameters were generated.\n",
      "* Step hill_climbing_1 will try to check up to 23 models\n",
      "65_LightGBM rmse 0.199116 trained in 0.95 seconds\n",
      "66_LightGBM rmse 0.199116 trained in 0.97 seconds\n",
      "67_CatBoost rmse 0.197219 trained in 1.52 seconds\n",
      "68_CatBoost rmse 0.205597 trained in 2.19 seconds\n",
      "* Step hill_climbing_2 will try to check up to 29 models\n",
      "69_CatBoost rmse 0.199126 trained in 2.03 seconds\n",
      "70_CatBoost rmse 0.201097 trained in 1.47 seconds\n",
      "* Step boost_on_errors will try to check up to 1 model\n",
      "4_Linear_BoostOnErrors rmse 0.194595 trained in 0.96 seconds\n",
      "* Step ensemble will try to check up to 1 model\n",
      "Ensemble rmse 0.176571 trained in 1.03 seconds\n",
      "* Step stack will try to check up to 18 models\n",
      "67_CatBoost_Stacked rmse 0.179577 trained in 3.15 seconds\n",
      "5_Default_LightGBM_Stacked rmse 0.194733 trained in 1.15 seconds\n",
      "6_Default_Xgboost_Stacked not trained. Stop training after the first fold. Time needed to train on the first fold 0.0 seconds. The time estimate for training on all folds is larger than total_time_limit.\n",
      "8_Default_NeuralNetwork_Stacked not trained. Stop training after the first fold. Time needed to train on the first fold 0.0 seconds. The time estimate for training on all folds is larger than total_time_limit.\n",
      "* Step ensemble_stacked will try to check up to 1 model\n",
      "Ensemble_Stacked rmse 0.172089 trained in 1.23 seconds\n",
      "AutoML fit time: 63.15 seconds\n",
      "AutoML best model: Ensemble_Stacked\n"
     ]
    }
   ],
   "source": [
    "if start_training.clicked:\n",
    "    mr.Markdown(\"### AutoML training logs\")\n",
    "    automl.fit(df[0][x_columns.value], df[0][y_column.value])\n",
    "    \n",
    "    output_filename = os.path.join(output_dir.path, automl._results_path)\n",
    "    shutil.make_archive(output_filename, 'zip', automl._results_path)"
   ]
  },
  {
   "cell_type": "code",
   "execution_count": 42,
   "id": "30eefe3c",
   "metadata": {},
   "outputs": [],
   "source": [
    "if automl._best_model is None:\n",
    "    mr.Stop()"
   ]
  },
  {
   "cell_type": "code",
   "execution_count": null,
   "id": "8fcfbc1a",
   "metadata": {},
   "outputs": [],
   "source": [
    "automl.report()"
   ]
  },
  {
   "cell_type": "code",
   "execution_count": null,
   "id": "202bccd9",
   "metadata": {},
   "outputs": [],
   "source": []
  }
 ],
 "metadata": {
  "kernelspec": {
   "display_name": "automlapp",
   "language": "python",
   "name": "python3"
  },
  "language_info": {
   "codemirror_mode": {
    "name": "ipython",
    "version": 3
   },
   "file_extension": ".py",
   "mimetype": "text/x-python",
   "name": "python",
   "nbconvert_exporter": "python",
   "pygments_lexer": "ipython3",
   "version": "3.12.2"
  }
 },
 "nbformat": 4,
 "nbformat_minor": 5
}
