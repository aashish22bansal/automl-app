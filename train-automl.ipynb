{
 "cells": [
  {
   "cell_type": "code",
   "execution_count": 34,
   "id": "9aab5e1e",
   "metadata": {},
   "outputs": [],
   "source": [
    "import os\n",
    "import shutil\n",
    "import pandas as pd\n",
    "import mercury as mr\n",
    "from supervised.automl import AutoML "
   ]
  },
  {
   "cell_type": "code",
   "execution_count": 35,
   "id": "397ee895",
   "metadata": {},
   "outputs": [],
   "source": [
    "from typing import List"
   ]
  },
  {
   "cell_type": "code",
   "execution_count": 36,
   "id": "d7009f5f",
   "metadata": {},
   "outputs": [],
   "source": [
    "import warnings\n",
    "warnings.filterwarnings(\"ignore\")"
   ]
  },
  {
   "cell_type": "code",
   "execution_count": 37,
   "id": "6313fc0d",
   "metadata": {},
   "outputs": [
    {
     "data": {
      "application/mercury+json": {
       "allow_download": true,
       "allow_share": true,
       "code_uid": "App.0.50.110.1-randab93fd8a",
       "continuous_update": true,
       "description": "Train ML pipeline with MLJAR AutoML",
       "full_screen": true,
       "model_id": "mercury-app",
       "notify": "{}",
       "output": "app",
       "schedule": "",
       "show_code": false,
       "show_prompt": false,
       "show_sidebar": true,
       "static_notebook": false,
       "stop_on_error": false,
       "title": "Train AutoML 🧑‍💻",
       "widget": "App"
      },
      "text/html": [
       "<h3>Mercury Application</h3><small>This output won't appear in the web app.</small>"
      ],
      "text/plain": [
       "mercury.App"
      ]
     },
     "metadata": {},
     "output_type": "display_data"
    }
   ],
   "source": [
    "app = mr.App(title=\"Train AutoML 🧑‍💻\", description=\"Train ML pipeline with MLJAR AutoML\")"
   ]
  },
  {
   "cell_type": "markdown",
   "id": "6d62fe00",
   "metadata": {},
   "source": [
    "# Train Machine Learning Pipeline with MLJAR AutoML\n",
    "Please follow the steps:\n",
    "1. Upload CSV file with data. Data should heave column names in the first line.\n",
    "2. Select input features and target column.\n",
    "3. Select AutoML training mode, algorithms and training time limit.\n",
    "4. Directory with all ML models will be zipped and available to download."
   ]
  },
  {
   "cell_type": "code",
   "execution_count": null,
   "id": "aafac626",
   "metadata": {},
   "outputs": [],
   "source": [
    "# data_file = mr.File(label=\"Upload CSV with training data\", max_file_size=\"1MB\")"
   ]
  },
  {
   "cell_type": "code",
   "execution_count": null,
   "id": "cb3cfa8c",
   "metadata": {},
   "outputs": [],
   "source": [
    "# if data_file.filepath is None:\n",
    "#     mr.Stop()"
   ]
  },
  {
   "cell_type": "code",
   "execution_count": null,
   "id": "02c8b639",
   "metadata": {},
   "outputs": [],
   "source": [
    "# df = pd.read_csv(data_file.filepath)"
   ]
  },
  {
   "cell_type": "code",
   "execution_count": 38,
   "id": "510f7a53",
   "metadata": {},
   "outputs": [],
   "source": [
    "from sklearn.datasets import load_iris\n",
    "df = load_iris(return_X_y = True, as_frame = True)"
   ]
  },
  {
   "cell_type": "code",
   "execution_count": 39,
   "id": "7557b68a",
   "metadata": {},
   "outputs": [
    {
     "data": {
      "text/markdown": [
       "### Training data"
      ],
      "text/plain": [
       "<IPython.core.display.Markdown object>"
      ]
     },
     "metadata": {},
     "output_type": "display_data"
    }
   ],
   "source": [
    "mr.Markdown(\"### Training data\")"
   ]
  },
  {
   "cell_type": "code",
   "execution_count": 40,
   "id": "83921208",
   "metadata": {},
   "outputs": [
    {
     "data": {
      "text/plain": [
       "(     sepal length (cm)  sepal width (cm)  petal length (cm)  petal width (cm)\n",
       " 0                  5.1               3.5                1.4               0.2\n",
       " 1                  4.9               3.0                1.4               0.2\n",
       " 2                  4.7               3.2                1.3               0.2\n",
       " 3                  4.6               3.1                1.5               0.2\n",
       " 4                  5.0               3.6                1.4               0.2\n",
       " ..                 ...               ...                ...               ...\n",
       " 145                6.7               3.0                5.2               2.3\n",
       " 146                6.3               2.5                5.0               1.9\n",
       " 147                6.5               3.0                5.2               2.0\n",
       " 148                6.2               3.4                5.4               2.3\n",
       " 149                5.9               3.0                5.1               1.8\n",
       " \n",
       " [150 rows x 4 columns],\n",
       " 0      0\n",
       " 1      0\n",
       " 2      0\n",
       " 3      0\n",
       " 4      0\n",
       "       ..\n",
       " 145    2\n",
       " 146    2\n",
       " 147    2\n",
       " 148    2\n",
       " 149    2\n",
       " Name: target, Length: 150, dtype: int32)"
      ]
     },
     "execution_count": 40,
     "metadata": {},
     "output_type": "execute_result"
    }
   ],
   "source": [
    "df"
   ]
  },
  {
   "cell_type": "code",
   "execution_count": 41,
   "id": "44fbf6e2",
   "metadata": {},
   "outputs": [
    {
     "data": {
      "application/mercury+json": {
       "choices": [
        "sepal length (cm)",
        "sepal width (cm)",
        "petal length (cm)",
        "petal width (cm)"
       ],
       "code_uid": "MultiSelect.0.50.91.1-rand8c0e558e",
       "disabled": false,
       "hidden": false,
       "label": "Input features",
       "model_id": "94db0b82c950465c98e0f68a93206c19",
       "url_key": "",
       "value": [
        "sepal length (cm)",
        "sepal width (cm)",
        "petal length (cm)"
       ],
       "widget": "MultiSelect"
      },
      "application/vnd.jupyter.widget-view+json": {
       "model_id": "94db0b82c950465c98e0f68a93206c19",
       "version_major": 2,
       "version_minor": 0
      },
      "text/plain": [
       "mercury.MultiSelect"
      ]
     },
     "metadata": {},
     "output_type": "display_data"
    }
   ],
   "source": [
    "x_columns = mr.MultiSelect(label=\"Input features\", value=list(df[0].columns)[:-1], \n",
    "                           choices=list(df[0].columns))"
   ]
  },
  {
   "cell_type": "code",
   "execution_count": 42,
   "id": "81d64072",
   "metadata": {},
   "outputs": [
    {
     "data": {
      "application/mercury+json": {
       "choices": [
        "sepal length (cm)",
        "sepal width (cm)",
        "petal length (cm)",
        "petal width (cm)"
       ],
       "code_uid": "Select.0.50.104.1-randa1bbda62",
       "disabled": false,
       "hidden": false,
       "label": "Target",
       "model_id": "b7f50260f17a4b12845c1fa79c7f7b30",
       "url_key": "",
       "value": "petal width (cm)",
       "widget": "Select"
      },
      "application/vnd.jupyter.widget-view+json": {
       "model_id": "b7f50260f17a4b12845c1fa79c7f7b30",
       "version_major": 2,
       "version_minor": 0
      },
      "text/plain": [
       "mercury.Select"
      ]
     },
     "metadata": {},
     "output_type": "display_data"
    }
   ],
   "source": [
    "y_column = mr.Select(label=\"Target\", value=list(df[0].columns)[-1], choices=list(df[0].columns))"
   ]
  },
  {
   "cell_type": "code",
   "execution_count": 43,
   "id": "465f07df",
   "metadata": {},
   "outputs": [],
   "source": [
    "if x_columns.value is None or len(x_columns.value) == 0 or y_column.value is None:\n",
    "    print(\"Please select input features and target column\")\n",
    "    mr.Stop()"
   ]
  },
  {
   "cell_type": "code",
   "execution_count": null,
   "id": "c91f5ef3",
   "metadata": {},
   "outputs": [],
   "source": []
  },
  {
   "cell_type": "code",
   "execution_count": 44,
   "id": "6e4cc96d",
   "metadata": {},
   "outputs": [
    {
     "data": {
      "application/mercury+json": {
       "choices": [
        "Explain",
        "Perform",
        "Compete"
       ],
       "code_uid": "Select.0.50.104.1-rand37c1e60e",
       "disabled": false,
       "hidden": false,
       "label": "AutoML Mode",
       "model_id": "a144d05cfb6b4065a22a6502ffb853ba",
       "url_key": "",
       "value": "Explain",
       "widget": "Select"
      },
      "application/vnd.jupyter.widget-view+json": {
       "model_id": "a144d05cfb6b4065a22a6502ffb853ba",
       "version_major": 2,
       "version_minor": 0
      },
      "text/plain": [
       "mercury.Select"
      ]
     },
     "metadata": {},
     "output_type": "display_data"
    }
   ],
   "source": [
    "mode = mr.Select(label=\"AutoML Mode\", value=\"Explain\", choices=[\"Explain\", \"Perform\", \"Compete\"])"
   ]
  },
  {
   "cell_type": "code",
   "execution_count": 45,
   "id": "4ad21129",
   "metadata": {},
   "outputs": [],
   "source": [
    "algos = {\n",
    "    \"Explain\": [\"Baseline\", \"Linear\", \"Decision Tree\", \"Random Forest\", \"Xgboost\", \"Neural Network\"],\n",
    "    \"Perform\": [\"Linear\", \"Random Forest\", \"LightGBM\", \"Xgboost\", \"CatBoost\", \"Neural Network\"],\n",
    "    \"Compete\": [\"Decision Tree\", \"Random Forest\", \"Extra Trees\", \"LightGBM\", \n",
    "                \"Xgboost\", \"CatBoost\", \"Neural Network\", \"Nearest Neighbors\"]\n",
    "}"
   ]
  },
  {
   "cell_type": "code",
   "execution_count": 46,
   "id": "e957c5a2",
   "metadata": {},
   "outputs": [
    {
     "data": {
      "application/mercury+json": {
       "choices": [
        "Baseline",
        "Linear",
        "Decision Tree",
        "Random Forest",
        "Xgboost",
        "Neural Network"
       ],
       "code_uid": "MultiSelect.0.50.91.1-rand029516aa",
       "disabled": false,
       "hidden": false,
       "label": "Algorithms",
       "model_id": "c2842e24fd434600a04469b7c4c7fa4f",
       "url_key": "",
       "value": [
        "Baseline",
        "Linear",
        "Decision Tree",
        "Random Forest",
        "Xgboost",
        "Neural Network"
       ],
       "widget": "MultiSelect"
      },
      "application/vnd.jupyter.widget-view+json": {
       "model_id": "c2842e24fd434600a04469b7c4c7fa4f",
       "version_major": 2,
       "version_minor": 0
      },
      "text/plain": [
       "mercury.MultiSelect"
      ]
     },
     "metadata": {},
     "output_type": "display_data"
    }
   ],
   "source": [
    "algorithms = mr.MultiSelect(label=\"Algorithms\", value=algos[mode.value], choices=algos[mode.value])"
   ]
  },
  {
   "cell_type": "code",
   "execution_count": 47,
   "id": "b85b4124",
   "metadata": {},
   "outputs": [
    {
     "data": {
      "application/mercury+json": {
       "choices": [
        "60",
        "120",
        "240",
        "300"
       ],
       "code_uid": "Select.0.50.104.1-rand460c99f6",
       "disabled": false,
       "hidden": false,
       "label": "Time limit (seconds)",
       "model_id": "4bd914f058e44346824720c8685419a3",
       "url_key": "",
       "value": "60",
       "widget": "Select"
      },
      "application/vnd.jupyter.widget-view+json": {
       "model_id": "4bd914f058e44346824720c8685419a3",
       "version_major": 2,
       "version_minor": 0
      },
      "text/plain": [
       "mercury.Select"
      ]
     },
     "metadata": {},
     "output_type": "display_data"
    }
   ],
   "source": [
    "time_limit = mr.Select(label=\"Time limit (seconds)\", value=\"60\", choices=[\"60\", \"120\", \"240\", \"300\"])"
   ]
  },
  {
   "cell_type": "code",
   "execution_count": 48,
   "id": "b3e6ba6c",
   "metadata": {},
   "outputs": [
    {
     "data": {
      "application/mercury+json": {
       "code_uid": "Button.0.50.58.1-rand7e53f118",
       "disabled": false,
       "hidden": false,
       "label": "Start training",
       "model_id": "19f395e6c8784de0acc27d75ba02f018",
       "style": "success",
       "value": false,
       "widget": "Button"
      },
      "application/vnd.jupyter.widget-view+json": {
       "model_id": "19f395e6c8784de0acc27d75ba02f018",
       "version_major": 2,
       "version_minor": 0
      },
      "text/plain": [
       "mercury.Button"
      ]
     },
     "metadata": {},
     "output_type": "display_data"
    }
   ],
   "source": [
    "start_training = mr.Button(label=\"Start training\", style=\"success\")"
   ]
  },
  {
   "cell_type": "code",
   "execution_count": 49,
   "id": "a735b3a7",
   "metadata": {},
   "outputs": [
    {
     "data": {
      "application/mercury+json": {
       "code_uid": "OutputDir.0.50.18.1-rande04bcf83",
       "model_id": "output-dir",
       "widget": "OutputDir"
      },
      "text/html": [
       "<h3>Output Directory</h3><small>This output won't appear in the web app.</small>"
      ],
      "text/plain": [
       "mercury.OutputDir"
      ]
     },
     "metadata": {},
     "output_type": "display_data"
    }
   ],
   "source": [
    "output_dir = mr.OutputDir()"
   ]
  },
  {
   "cell_type": "code",
   "execution_count": 50,
   "id": "022b6eec",
   "metadata": {},
   "outputs": [],
   "source": [
    "automl = AutoML(mode=mode.value, algorithms=algorithms.value,\n",
    "                total_time_limit=int(time_limit.value))"
   ]
  },
  {
   "cell_type": "code",
   "execution_count": 51,
   "id": "542c1380",
   "metadata": {},
   "outputs": [
    {
     "data": {
      "text/plain": [
       "['sepal length (cm)', 'sepal width (cm)', 'petal length (cm)']"
      ]
     },
     "execution_count": 51,
     "metadata": {},
     "output_type": "execute_result"
    }
   ],
   "source": [
    "x_columns.value"
   ]
  },
  {
   "cell_type": "code",
   "execution_count": 55,
   "id": "8cc05f08",
   "metadata": {},
   "outputs": [
    {
     "ename": "TypeError",
     "evalue": "'MultiSelect' object is not subscriptable",
     "output_type": "error",
     "traceback": [
      "\u001b[1;31m---------------------------------------------------------------------------\u001b[0m",
      "\u001b[1;31mTypeError\u001b[0m                                 Traceback (most recent call last)",
      "Cell \u001b[1;32mIn[55], line 1\u001b[0m\n\u001b[1;32m----> 1\u001b[0m automl\u001b[38;5;241m.\u001b[39mfit(df[\u001b[43mx_columns\u001b[49m\u001b[43m[\u001b[49m\u001b[43m:\u001b[49m\u001b[38;5;241;43m-\u001b[39;49m\u001b[38;5;241;43m1\u001b[39;49m\u001b[43m]\u001b[49m\u001b[38;5;241m.\u001b[39mvalue], df[y_column[\u001b[38;5;241m-\u001b[39m\u001b[38;5;241m1\u001b[39m]\u001b[38;5;241m.\u001b[39mvalue])\n",
      "\u001b[1;31mTypeError\u001b[0m: 'MultiSelect' object is not subscriptable"
     ]
    }
   ],
   "source": [
    "automl.fit(df[x_columns[:-1].value], df[y_column[-1].value])"
   ]
  },
  {
   "cell_type": "code",
   "execution_count": 52,
   "id": "79246d1b",
   "metadata": {},
   "outputs": [
    {
     "data": {
      "text/markdown": [
       "### AutoML training logs"
      ],
      "text/plain": [
       "<IPython.core.display.Markdown object>"
      ]
     },
     "metadata": {},
     "output_type": "display_data"
    },
    {
     "ename": "TypeError",
     "evalue": "'MultiSelect' object is not subscriptable",
     "output_type": "error",
     "traceback": [
      "\u001b[1;31m---------------------------------------------------------------------------\u001b[0m",
      "\u001b[1;31mTypeError\u001b[0m                                 Traceback (most recent call last)",
      "Cell \u001b[1;32mIn[52], line 3\u001b[0m\n\u001b[0;32m      1\u001b[0m \u001b[38;5;28;01mif\u001b[39;00m start_training\u001b[38;5;241m.\u001b[39mclicked:\n\u001b[0;32m      2\u001b[0m     mr\u001b[38;5;241m.\u001b[39mMarkdown(\u001b[38;5;124m\"\u001b[39m\u001b[38;5;124m### AutoML training logs\u001b[39m\u001b[38;5;124m\"\u001b[39m)\n\u001b[1;32m----> 3\u001b[0m     automl\u001b[38;5;241m.\u001b[39mfit(df[\u001b[43mx_columns\u001b[49m\u001b[43m[\u001b[49m\u001b[43m:\u001b[49m\u001b[38;5;241;43m-\u001b[39;49m\u001b[38;5;241;43m1\u001b[39;49m\u001b[43m]\u001b[49m\u001b[38;5;241m.\u001b[39mvalue], df[y_column[\u001b[38;5;241m-\u001b[39m\u001b[38;5;241m1\u001b[39m]\u001b[38;5;241m.\u001b[39mvalue])\n\u001b[0;32m      5\u001b[0m     output_filename \u001b[38;5;241m=\u001b[39m os\u001b[38;5;241m.\u001b[39mpath\u001b[38;5;241m.\u001b[39mjoin(output_dir\u001b[38;5;241m.\u001b[39mpath, automl\u001b[38;5;241m.\u001b[39m_results_path)\n\u001b[0;32m      6\u001b[0m     shutil\u001b[38;5;241m.\u001b[39mmake_archive(output_filename, \u001b[38;5;124m'\u001b[39m\u001b[38;5;124mzip\u001b[39m\u001b[38;5;124m'\u001b[39m, automl\u001b[38;5;241m.\u001b[39m_results_path)\n",
      "\u001b[1;31mTypeError\u001b[0m: 'MultiSelect' object is not subscriptable"
     ]
    }
   ],
   "source": [
    "if start_training.clicked:\n",
    "    mr.Markdown(\"### AutoML training logs\")\n",
    "    automl.fit(df[x_columns[:-1].value], df[y_column[-1].value])\n",
    "    \n",
    "    output_filename = os.path.join(output_dir.path, automl._results_path)\n",
    "    shutil.make_archive(output_filename, 'zip', automl._results_path)"
   ]
  },
  {
   "cell_type": "code",
   "execution_count": null,
   "id": "482a1978",
   "metadata": {},
   "outputs": [],
   "source": [
    "automl"
   ]
  },
  {
   "cell_type": "code",
   "execution_count": null,
   "id": "ae4908ba",
   "metadata": {},
   "outputs": [],
   "source": [
    "automl._best_model"
   ]
  },
  {
   "cell_type": "code",
   "execution_count": null,
   "id": "30eefe3c",
   "metadata": {},
   "outputs": [],
   "source": [
    "if automl._best_model is None:\n",
    "    mr.Stop()"
   ]
  },
  {
   "cell_type": "code",
   "execution_count": null,
   "id": "8fcfbc1a",
   "metadata": {},
   "outputs": [],
   "source": [
    "automl.report()"
   ]
  },
  {
   "cell_type": "code",
   "execution_count": null,
   "id": "202bccd9",
   "metadata": {},
   "outputs": [],
   "source": []
  }
 ],
 "metadata": {
  "kernelspec": {
   "display_name": "automlapp",
   "language": "python",
   "name": "python3"
  },
  "language_info": {
   "codemirror_mode": {
    "name": "ipython",
    "version": 3
   },
   "file_extension": ".py",
   "mimetype": "text/x-python",
   "name": "python",
   "nbconvert_exporter": "python",
   "pygments_lexer": "ipython3",
   "version": "3.12.2"
  }
 },
 "nbformat": 4,
 "nbformat_minor": 5
}
